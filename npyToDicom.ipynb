{
 "cells": [
  {
   "cell_type": "code",
   "execution_count": 1,
   "id": "1bbd2cd1",
   "metadata": {
    "ExecuteTime": {
     "end_time": "2021-08-07T18:21:08.170387Z",
     "start_time": "2021-08-07T18:21:08.041256Z"
    }
   },
   "outputs": [],
   "source": [
    "# Imports\n",
    "from __future__ import print_function\n",
    "import SimpleITK as sitk\n",
    "import sys, time, os, numpy as np"
   ]
  },
  {
   "cell_type": "code",
   "execution_count": 2,
   "id": "550f2c59",
   "metadata": {
    "ExecuteTime": {
     "end_time": "2021-08-07T18:21:10.560663Z",
     "start_time": "2021-08-07T18:21:08.625666Z"
    }
   },
   "outputs": [
    {
     "name": "stdout",
     "output_type": "stream",
     "text": [
      "41\n"
     ]
    }
   ],
   "source": [
    "# Load the numpy array and swap axis needed\n",
    "arr = np.load('001.npy')\n",
    "narr = np.swapaxes(arr,0,2)  ######## MOST IMPORTANT LINE, SEE WHAT AXIS TO SWAP TO HAVE THE DICOM IN THE RIGHT ORDER\n",
    "\n",
    "# Modify the image (blurring)\n",
    "filtered_image = sitk.GetImageFromArray(narr)\n",
    "series_file_names = [f'output/DCM_{i}.dcm' for i in range(arr.shape[2])]\n",
    "\n",
    "# Convert numpy array to int\n",
    "castFilter = sitk.CastImageFilter()\n",
    "castFilter.SetOutputPixelType(sitk.sitkInt16)\n",
    "filtered_image = castFilter.Execute(filtered_image)\n",
    "\n",
    "# Show the depth, should be 41!!\n",
    "print(filtered_image.GetDepth())"
   ]
  },
  {
   "cell_type": "code",
   "execution_count": 3,
   "id": "951d3e10",
   "metadata": {
    "ExecuteTime": {
     "end_time": "2021-08-07T18:21:11.399910Z",
     "start_time": "2021-08-07T18:21:11.077910Z"
    }
   },
   "outputs": [],
   "source": [
    "# Writes all the image to output/DCM_i.dcm\n",
    "writer = sitk.ImageFileWriter()\n",
    "writer.KeepOriginalImageUIDOn()\n",
    "modification_time = time.strftime(\"%H%M%S\")\n",
    "modification_date = time.strftime(\"%Y%m%d\")\n",
    "\n",
    "for i in range(filtered_image.GetDepth()): \n",
    "    image_slice = filtered_image[:,:,i]\n",
    "    \n",
    "    # Set relevant keys indicating the change, modify or remove private tags as needed\n",
    "    image_slice.SetMetaData(\"0008|0031\", modification_time)\n",
    "    image_slice.SetMetaData(\"0008|0021\", modification_date)\n",
    "    image_slice.SetMetaData(\"0008|0008\", \"DERIVED\\SECONDARY\")\n",
    "    \n",
    "    # Each of the UID components is a number (cannot start with zero) and separated by a '.'\n",
    "    # We create a unique series ID using the date and time.\n",
    "    image_slice.SetMetaData(\"0020|000e\", \"1.2.826.0.1.3680043.2.1125.\"+modification_date+\".1\"+modification_time)\n",
    "    \n",
    "    # Write to the output directory and add the extension dcm if not there, to force writing is in DICOM format.\n",
    "    writer.SetFileName( series_file_names[i] )\n",
    "    writer.Execute(image_slice)"
   ]
  },
  {
   "cell_type": "code",
   "execution_count": null,
   "id": "24a57a85",
   "metadata": {},
   "outputs": [],
   "source": []
  }
 ],
 "metadata": {
  "kernelspec": {
   "display_name": "Python 3",
   "language": "python",
   "name": "python3"
  },
  "language_info": {
   "codemirror_mode": {
    "name": "ipython",
    "version": 3
   },
   "file_extension": ".py",
   "mimetype": "text/x-python",
   "name": "python",
   "nbconvert_exporter": "python",
   "pygments_lexer": "ipython3",
   "version": "3.8.8"
  }
 },
 "nbformat": 4,
 "nbformat_minor": 5
}
